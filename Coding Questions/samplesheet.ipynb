{
 "cells": [
  {
   "cell_type": "code",
   "execution_count": null,
   "metadata": {},
   "outputs": [],
   "source": [
    "#Question 1\n",
    "\n",
    "class PaymentMethod:\n",
    "    def pay(self, amount):\n",
    "        pass\n",
    "        \n",
    "\n",
    "class CreditCard(PaymentMethod):\n",
    "    def pay(self, amount):\n",
    "        print(f\"paid {amount} using credit card\")\n",
    "\n",
    "class DebitCard(PaymentMethod):\n",
    "    def pay(self, amount):\n",
    "        print(f\"paid {amount} using debit card\")\n",
    "\n",
    "class Cash(PaymentMethod):\n",
    "    def pay(self, amount):\n",
    "        print(f\"paid {amount} using cash\")\n",
    "\n",
    "# Example usage:\n",
    "amount = int(input())\n",
    "# Call the pay method for each payment type\n"
   ]
  },
  {
   "cell_type": "code",
   "execution_count": 10,
   "metadata": {},
   "outputs": [
    {
     "name": "stdout",
     "output_type": "stream",
     "text": [
      "100\n"
     ]
    }
   ],
   "source": [
    "#Question 2\n",
    "\n",
    "class Item:\n",
    "    def __init__(self, name, price):\n",
    "        self.price = price\n",
    "        self.name = name\n",
    "\n",
    "class ShoppingCart:\n",
    "    def __init__(self):\n",
    "        self.cart = []\n",
    "    def add_item(self, name, price):\n",
    "        new_item = Item(name,price)\n",
    "        self.cart.append(new_item)\n",
    "\n",
    "    def remove_item(self, name):\n",
    "        for item in self.cart:\n",
    "            if(item.name == name):\n",
    "                self.cart.remove(item)\n",
    "\n",
    "    def total_price(self):\n",
    "        return sum(item.price for item in self.cart)\n",
    "# Example usage:\n",
    "cart = ShoppingCart()\n",
    "cart.add_item(\"paneer\",100)\n",
    "cart.add_item(\"rice\",100)\n",
    "cart.remove_item(\"paneer\")\n",
    "print(cart.total_price())\n",
    "\n",
    "\n",
    "# Read input and perform operations\n"
   ]
  },
  {
   "cell_type": "code",
   "execution_count": null,
   "metadata": {},
   "outputs": [],
   "source": [
    "class Employee:\n",
    "    def __init__(self, name, base_salary):\n",
    "        self.name = name\n",
    "        self.base_salary = base_salary\n",
    "\n",
    "    def calculate_salary(self):\n",
    "        raise NotImplementedError(\"Subclasses must implement calculate_salary method\")\n",
    "\n",
    "class Manager(Employee):\n",
    "    def __init__(self, name, base_salary, bonus):\n",
    "        super().__init__(name, base_salary)\n",
    "        self.bonus = bonus\n",
    "\n",
    "    def calculate_salary(self):\n",
    "        return self.base_salary + self.bonus\n",
    "\n",
    "class Developer(Employee):\n",
    "    def __init__(self, name, base_salary, overtime_hours, overtime_rate):\n",
    "        super().__init__(name, base_salary)\n",
    "        self.overtime_hours = overtime_hours\n",
    "        self.overtime_rate = overtime_rate\n",
    "\n",
    "    def calculate_salary(self):\n",
    "        return self.base_salary + (self.overtime_hours * self.overtime_rate)\n",
    "\n",
    "manager = Manager(\"Alice\", 5000, 1000)\n",
    "developer = Developer(\"Bob\", 4000, 10, 50)\n",
    "\n",
    "print(f\"{manager.name}'s Salary: ${manager.calculate_salary():.2f}\")\n",
    "print(f\"{developer.name}'s Salary: ${developer.calculate_salary():.2f}\")\n",
    "\n",
    "#Example usage:\n",
    "# Read input and create objects"
   ]
  },
  {
   "cell_type": "code",
   "execution_count": 2,
   "metadata": {},
   "outputs": [
    {
     "name": "stdout",
     "output_type": "stream",
     "text": [
      "ram manohar\n",
      "Nisarg\n"
     ]
    }
   ],
   "source": [
    "#Question 4\n",
    "\n",
    "class Employee:\n",
    "    def __init__(self, name, salary):\n",
    "        self.__name = name\n",
    "        self.__salary = salary\n",
    "\n",
    "    def get_name(self):\n",
    "        return self.__name\n",
    "\n",
    "    def set_name(self, name):\n",
    "        self.__name = name\n",
    "\n",
    "    def get_salary(self):\n",
    "        return self.__salary\n",
    "\n",
    "    def set_salary(self, salary):\n",
    "        self.__salary= salary\n",
    "        \n",
    "e1 = Employee(\"ram manohar\",500)\n",
    "print(e1.get_name())\n",
    "e1.set_name(\"Nisarg\")\n",
    "print(e1.get_name())\n",
    "# Example usage:\n",
    "# Read input and manipulate employee details\n",
    "\n"
   ]
  },
  {
   "cell_type": "code",
   "execution_count": null,
   "metadata": {},
   "outputs": [
    {
     "name": "stdout",
     "output_type": "stream",
     "text": [
      "500\n"
     ]
    }
   ],
   "source": [
    "#Question 5\n",
    "class BankAccount:\n",
    "    def __init__(self, account_number, balance):\n",
    "        self.account_number = account_number\n",
    "        self.balance = balance\n",
    "\n",
    "    def deposit(self, amount):\n",
    "        self.balance+=amount\n",
    "\n",
    "    def withdraw(self, amount):\n",
    "        if(self.balance >= amount):\n",
    "            self.balance-=amount\n",
    "\n",
    "    def get_balance(self):\n",
    "        return self.balance\n",
    "\n",
    "obj1 = BankAccount(123,1000)\n",
    "obj1.deposit(500)\n",
    "obj1.withdraw(1000)\n",
    "print(obj1.get_balance())\n",
    "\n",
    "# Example usage:\n",
    "# Create an account and perform transactions"
   ]
  },
  {
   "cell_type": "code",
   "execution_count": null,
   "metadata": {},
   "outputs": [
    {
     "name": "stdout",
     "output_type": "stream",
     "text": [
      "Book 'Rabi' added.\n",
      "Book 'Python 101' added.\n"
     ]
    }
   ],
   "source": [
    "class Book:\n",
    "    def __init__(self, title, author):\n",
    "        self.title = title\n",
    "        self.author = author\n",
    "\n",
    "    def __str__(self):\n",
    "        return f\"'{self.title}' by {self.author}\"\n",
    "\n",
    "class Library:\n",
    "    def __init__(self):\n",
    "        self.books = []\n",
    "\n",
    "    def add_book(self, book):\n",
    "\n",
    "        self.books.append(book)\n",
    "        print(f\"Book '{book.title}' added.\")\n",
    "\n",
    "    def remove_book(self, title):\n",
    "\n",
    "        for book in self.books:\n",
    "            if book.title == title:\n",
    "                self.books.remove(book)\n",
    "                print(f\"Book '{title}' removed.\")\n",
    "                return\n",
    "        print(\"Book not found.\")\n",
    "\n",
    "    def search_book(self, title):\n",
    "\n",
    "        for book in self.books:\n",
    "            if book.title == title:\n",
    "                return book  \n",
    "        print(\"Book not found.\")\n",
    "        return None\n",
    "\n",
    "library = Library()\n",
    "book1 = Book(\"Rabi\", \"Ram\")\n",
    "book2 = Book(\"Python 101\", \"John Doe\")\n",
    "library.add_book(book1)\n",
    "library.add_book(book2)\n",
    "found_book = library.search_book(\"Rabi\")\n",
    "if found_book:\n",
    "    print(f\"Found: {found_book}\")\n",
    "library.remove_book(\"Rabi\")\n",
    "library.search_book(\"Rabi\")\n"
   ]
  },
  {
   "cell_type": "code",
   "execution_count": null,
   "metadata": {},
   "outputs": [
    {
     "name": "stdout",
     "output_type": "stream",
     "text": [
      "1500\n",
      "Item not found\n"
     ]
    }
   ],
   "source": [
    "#Question 7\n",
    "class Order:\n",
    "    def __init__(self):\n",
    "        self.cart = {}\n",
    "\n",
    "    def add_product(self, product, price):\n",
    "        self.cart[product] = price\n",
    "        \n",
    "\n",
    "    def remove_product(self, product):\n",
    "        if(product in self.cart):\n",
    "            self.cart.pop(product)\n",
    "        else:\n",
    "            print(\"Item not found\")\n",
    "\n",
    "    def calculate_total(self):\n",
    "        c = 0\n",
    "        for item in self.cart.values():\n",
    "            c+=item\n",
    "        print(c)\n",
    "\n",
    "o1 = Order()\n",
    "o1.add_product(\"Shawl\",500)\n",
    "o1.add_product(\"Mavi\",1500)\n",
    "o1.remove_product(\"Shawl\")\n",
    "o1.calculate_total()\n",
    "o1.remove_product(\"Shawl\")\n",
    "\n",
    "\n",
    "# Example usage:\n",
    "# Create an order and perform operations"
   ]
  },
  {
   "cell_type": "code",
   "execution_count": 26,
   "metadata": {},
   "outputs": [
    {
     "name": "stdout",
     "output_type": "stream",
     "text": [
      "75.0\n"
     ]
    }
   ],
   "source": [
    "#Question 8\n",
    "class Student:\n",
    "    def __init__(self, name):\n",
    "        self.name = name\n",
    "        self.grades = []\n",
    "\n",
    "    def add_grade(self, grade):\n",
    "        if 0 <= grade <= 100:  \n",
    "            self.grades.append(grade)\n",
    "        else:\n",
    "            print(\"Invalid grade. Please enter a value between 0 and 100.\")\n",
    "\n",
    "    def calculate_average(self):\n",
    "        if not self.grades:\n",
    "            return 0 \n",
    "        return sum(self.grades) / len(self.grades)\n",
    "    \n",
    "s1 = Student(\"ram manohar\")\n",
    "s1.add_grade(50)\n",
    "s1.add_grade(100)\n",
    "print(s1.calculate_average())\n",
    "    \n",
    "# Example usage:\n",
    "# Manage student records"
   ]
  },
  {
   "cell_type": "code",
   "execution_count": 27,
   "metadata": {},
   "outputs": [
    {
     "name": "stdout",
     "output_type": "stream",
     "text": [
      "Brand of vehicle is Toyota with 4 doors\n",
      "Brand of vehicle is Yamaha of Sport type\n"
     ]
    }
   ],
   "source": [
    "#Question 9\n",
    "class Vehicle:\n",
    "    def __init__(self, brand):\n",
    "        self.brand = brand\n",
    "\n",
    "    def display_info(self):\n",
    "        print(f\"Brand of vehicle is {self.brand}\")\n",
    "\n",
    "class Car(Vehicle):\n",
    "    def __init__(self, brand, doors):\n",
    "        super().__init__(brand)\n",
    "        self.doors = doors\n",
    "\n",
    "    def display_info(self):\n",
    "        print(f\"Brand of vehicle is {self.brand} with {self.doors} doors\")\n",
    "        \n",
    "\n",
    "class Bike(Vehicle):\n",
    "    def __init__(self, brand, type):\n",
    "        super().__init__(brand)\n",
    "        self.type = type\n",
    "\n",
    "    def display_info(self):\n",
    "        print(f\"Brand of vehicle is {self.brand} of {self.type} type\")\n",
    "        \n",
    "car1 = Car(\"Toyota\", 4)\n",
    "car1.display_info()\n",
    "\n",
    "bike1 = Bike(\"Yamaha\", \"Sport\")\n",
    "bike1.display_info()\n",
    "\n",
    "\n",
    "# Example usage:\n",
    "# Create vehicles and display their info"
   ]
  },
  {
   "cell_type": "code",
   "execution_count": null,
   "metadata": {},
   "outputs": [],
   "source": [
    "#Question 10\n",
    "class ATM:\n",
    "    def __init__(self, balance):\n",
    "        self.balance = balance\n",
    "\n",
    "    def deposit(self, amount):\n",
    "        self.balance += amount\n",
    "\n",
    "    def withdraw(self, amount):\n",
    "        if(self.balance >= amount):\n",
    "            self.balance -= amount\n",
    "\n",
    "    def check_balance(self):\n",
    "        print(self.balance)\n",
    "\n",
    "# Example usage:\n",
    "# Simulate ATM operations"
   ]
  }
 ],
 "metadata": {
  "kernelspec": {
   "display_name": "Python 3",
   "language": "python",
   "name": "python3"
  },
  "language_info": {
   "codemirror_mode": {
    "name": "ipython",
    "version": 3
   },
   "file_extension": ".py",
   "mimetype": "text/x-python",
   "name": "python",
   "nbconvert_exporter": "python",
   "pygments_lexer": "ipython3",
   "version": "3.13.2"
  }
 },
 "nbformat": 4,
 "nbformat_minor": 2
}
